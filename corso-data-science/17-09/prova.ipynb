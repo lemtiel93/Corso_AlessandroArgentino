{
 "cells": [
  {
   "cell_type": "code",
   "execution_count": 15,
   "metadata": {},
   "outputs": [
    {
     "name": "stdout",
     "output_type": "stream",
     "text": [
      "Città     Milano  Napoli   Roma\n",
      "Prodotto                       \n",
      "Mouse      250.0   150.0  100.0\n",
      "Tastiera   200.0     NaN  300.0\n",
      "         Data   Città  Prodotto  Vendite\n",
      "0  2021-01-01    Roma     Mouse      100\n",
      "1  2021-01-01  Milano  Tastiera      200\n",
      "2  2021-01-01  Napoli     Mouse      150\n",
      "3  2021-01-02    Roma  Tastiera      300\n",
      "4  2021-01-02  Milano     Mouse      250\n"
     ]
    }
   ],
   "source": [
    "import pandas as pd\n",
    "\n",
    "# Dati di esempio\n",
    "data = {\n",
    "'Data': ['2021-01-01','2021-01-01','2021-01-01','2021-01-02','2021-01-02'],\n",
    "'Città':['Roma','Milano','Napoli','Roma','Milano'],\n",
    "'Prodotto': ['Mouse','Tastiera','Mouse','Tastiera','Mouse'],\n",
    "'Vendite': [100, 200, 150, 300, 250]\n",
    "}\n",
    "\n",
    "df = pd.DataFrame(data)\n",
    "\n",
    "\n",
    "pivot_df = df.pivot_table(values='Vendite', index='Prodotto', columns='Città', aggfunc='mean')\n",
    "\n",
    "print(pivot_df)\n",
    "print(df)"
   ]
  },
  {
   "cell_type": "code",
   "execution_count": 16,
   "metadata": {},
   "outputs": [
    {
     "data": {
      "text/plain": [
       "Prodotto\n",
       "Mouse       500\n",
       "Tastiera    500\n",
       "Name: Vendite, dtype: int64"
      ]
     },
     "execution_count": 16,
     "metadata": {},
     "output_type": "execute_result"
    }
   ],
   "source": [
    "df.groupby('Prodotto')['Vendite'].sum()"
   ]
  }
 ],
 "metadata": {
  "kernelspec": {
   "display_name": "Python 3",
   "language": "python",
   "name": "python3"
  },
  "language_info": {
   "codemirror_mode": {
    "name": "ipython",
    "version": 3
   },
   "file_extension": ".py",
   "mimetype": "text/x-python",
   "name": "python",
   "nbconvert_exporter": "python",
   "pygments_lexer": "ipython3",
   "version": "3.12.1"
  }
 },
 "nbformat": 4,
 "nbformat_minor": 2
}
