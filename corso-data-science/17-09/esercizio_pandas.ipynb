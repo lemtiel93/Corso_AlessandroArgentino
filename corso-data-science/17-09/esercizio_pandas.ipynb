{
 "cells": [
  {
   "cell_type": "code",
   "execution_count": 3,
   "metadata": {},
   "outputs": [],
   "source": [
    "import numpy as np\n",
    "import pandas as pd\n",
    "import random\n",
    "\n",
    "lista_nomi = ['Paperino','Pippo','Pluto', 'Giovanni', 'Marco']\n",
    "lista_citta = ['Milano','Napoli','Agrate Brianza','Roma','Torino']\n",
    "\n",
    "n = 30\n",
    "\n",
    "nomi_casuali = random.choices(lista_nomi, k=n)\n",
    "citta_casuali = random.choices(lista_citta, k=n)\n",
    "salari = np.random.randint(20,100,size = n)\n",
    "eta = np.random.randint(0,120, size = n)\n",
    "\n",
    "df = pd.DataFrame({\n",
    "    'Nome': nomi_casuali,\n",
    "    'Città': citta_casuali,\n",
    "    'Salario in K': salari,\n",
    "    'Età': eta\n",
    "})"
   ]
  },
  {
   "cell_type": "code",
   "execution_count": 5,
   "metadata": {},
   "outputs": [
    {
     "name": "stdout",
     "output_type": "stream",
     "text": [
      "       Nome   Città  Salario in K  Età\n",
      "0     Marco    Roma            37   49\n",
      "1  Paperino  Milano            44   25\n",
      "2     Marco  Torino            68   34\n",
      "3  Giovanni    Roma            23   80\n",
      "4     Marco    Roma            53   59\n",
      "        Nome   Città  Salario in K  Età\n",
      "25     Marco  Torino            39  118\n",
      "26  Giovanni  Napoli            96    1\n",
      "27     Pippo    Roma            85  112\n",
      "28     Marco  Milano            33   50\n",
      "29     Pippo  Napoli            75   34\n"
     ]
    }
   ],
   "source": [
    "print(df.head())\n",
    "print(df.tail())"
   ]
  },
  {
   "cell_type": "code",
   "execution_count": 6,
   "metadata": {},
   "outputs": [
    {
     "name": "stdout",
     "output_type": "stream",
     "text": [
      "63.6 63.4 65.5 57.5 25.56209478221948 40.98578391050513\n"
     ]
    }
   ],
   "source": [
    "media_salario = df['Salario in K'].mean()\n",
    "media_eta = df['Età'].mean()\n",
    "mediana_salario = df['Salario in K'].median()\n",
    "mediana_eta = df['Età'].median()\n",
    "std_salario = df['Salario in K'].std()\n",
    "std_eta = df['Età'].std()\n",
    "\n",
    "print(media_salario,media_eta,mediana_salario,mediana_eta,std_salario,std_eta)"
   ]
  },
  {
   "cell_type": "code",
   "execution_count": 7,
   "metadata": {},
   "outputs": [
    {
     "data": {
      "text/plain": [
       "30"
      ]
     },
     "execution_count": 7,
     "metadata": {},
     "output_type": "execute_result"
    }
   ],
   "source": [
    "df_nuovo = df.drop_duplicates()\n",
    "len(df_nuovo)"
   ]
  }
 ],
 "metadata": {
  "kernelspec": {
   "display_name": "Python 3",
   "language": "python",
   "name": "python3"
  },
  "language_info": {
   "codemirror_mode": {
    "name": "ipython",
    "version": 3
   },
   "file_extension": ".py",
   "mimetype": "text/x-python",
   "name": "python",
   "nbconvert_exporter": "python",
   "pygments_lexer": "ipython3",
   "version": "3.12.1"
  }
 },
 "nbformat": 4,
 "nbformat_minor": 2
}
