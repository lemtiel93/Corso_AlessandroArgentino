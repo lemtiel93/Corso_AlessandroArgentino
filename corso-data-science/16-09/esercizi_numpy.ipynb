{
 "cells": [
  {
   "cell_type": "code",
   "execution_count": 33,
   "metadata": {},
   "outputs": [
    {
     "name": "stdout",
     "output_type": "stream",
     "text": [
      "[10 11 12 13 14 15 16 17 18 19 20 21 22 23 24 25 26 27 28 29 30 31 32 33\n",
      " 34 35 36 37 38 39 40 41 42 43 44 45 46 47 48 49]\n",
      "int32\n",
      "float64\n",
      "(40,)\n"
     ]
    }
   ],
   "source": [
    "# Esercizio 1\n",
    "import numpy as np\n",
    "# Genera numeri interi compresi tra 10 e 49\n",
    "arr = np.arange(10,50)\n",
    "print(arr)\n",
    "print(arr.dtype)\n",
    "arr2 = arr.astype(float)\n",
    "print(arr2.dtype)\n",
    "print(arr2.shape)"
   ]
  },
  {
   "cell_type": "code",
   "execution_count": 34,
   "metadata": {},
   "outputs": [
    {
     "data": {
      "text/plain": [
       "array([24, 33, 22, 13, 20, 16, 38, 21, 20, 22, 28, 17, 36, 35, 34, 39, 14,\n",
       "       48, 17, 12])"
      ]
     },
     "execution_count": 34,
     "metadata": {},
     "output_type": "execute_result"
    }
   ],
   "source": [
    "# Esercizio 2\n",
    "\n",
    "arr = np.random.randint(10,51, size = 20)\n",
    "arr\n"
   ]
  },
  {
   "cell_type": "code",
   "execution_count": 39,
   "metadata": {},
   "outputs": [
    {
     "name": "stdout",
     "output_type": "stream",
     "text": [
      "Primi 10 numeri  [24 33 22 13 20 16 38 21 20 22]\n",
      "Ultimi 5 numeri [39 14 48 17 12]\n",
      "Numeri con indice compreso tra 5 e 15 (escluso) [16 38 21 20 22 28 17 36 35 34]\n",
      "Lista a step di 3 [22 16 20 17 34 48]\n",
      "Array con 99 negli indici compresi tra 5 e 10 [24 33 22 13 20 99 99 99 99 99 28 17 36 35 34 39 14 48 17 12]\n"
     ]
    }
   ],
   "source": [
    "print(\"Primi 10 numeri \",arr[:10])\n",
    "print(\"Ultimi 5 numeri\",arr[-5:])\n",
    "print(\"Numeri con indice compreso tra 5 e 15 (escluso)\",arr[5:15])\n",
    "print(\"Lista a step di 3\",arr[2::3])\n",
    "arr2 = arr.copy()\n",
    "arr2[5:10] = 99\n",
    "print(\"Array con 99 negli indici compresi tra 5 e 10\",arr2)"
   ]
  },
  {
   "cell_type": "code",
   "execution_count": 40,
   "metadata": {},
   "outputs": [
    {
     "name": "stdout",
     "output_type": "stream",
     "text": [
      "[24 33 22 13 20 16 38 21 20 22 28 17 36 35 34 39 14 48 17 12]\n",
      "[24 33 22 13 20 99 99 99 99 99 28 17 36 35 34 39 14 48 17 12]\n"
     ]
    }
   ],
   "source": [
    "print(arr)\n",
    "print(arr2)"
   ]
  },
  {
   "cell_type": "code",
   "execution_count": 46,
   "metadata": {},
   "outputs": [],
   "source": [
    "# Esercizio 3\n",
    "mat1 = np.linspace(0, 1, 12)\n",
    "mat1 = mat1.reshape(3,4)"
   ]
  },
  {
   "cell_type": "code",
   "execution_count": 48,
   "metadata": {},
   "outputs": [
    {
     "data": {
      "text/plain": [
       "array([[0.81569   , 0.28541837, 0.60937367, 0.61120658],\n",
       "       [0.60621701, 0.51069873, 0.95278394, 1.19548308],\n",
       "       [0.78041076, 1.00528746, 1.7058187 , 1.59518812]])"
      ]
     },
     "execution_count": 48,
     "metadata": {},
     "output_type": "execute_result"
    }
   ],
   "source": [
    "mat2= np.random.rand(3,4)\n",
    "mat_tot = mat1 + mat2 \n",
    "mat_tot"
   ]
  },
  {
   "cell_type": "code",
   "execution_count": 60,
   "metadata": {},
   "outputs": [
    {
     "name": "stdout",
     "output_type": "stream",
     "text": [
      "[[0.56446817 0.73475632 0.9440695  1.12149328]\n",
      " [0.45107367 0.63145311 0.66977409 1.55236509]\n",
      " [0.97434439 1.11281305 1.34840883 1.86449062]]\n"
     ]
    }
   ],
   "source": [
    "print(np.linspace(0, 1, 12).reshape(3,4) + np.random.rand(3,4))"
   ]
  },
  {
   "cell_type": "code",
   "execution_count": 65,
   "metadata": {},
   "outputs": [],
   "source": [
    "# Esercizio 4\n",
    "arr = np.linspace(0,10,50)\n",
    "arr_casuale = np.random.rand(50)\n",
    "arr_somma = arr + arr_casuale\n",
    "totale = sum(arr_somma)\n",
    "totale_magg5 = arr_somma[arr_somma > 5].sum()\n",
    "totale_min5 = arr_somma[arr_somma <= 5].sum()"
   ]
  },
  {
   "cell_type": "code",
   "execution_count": 68,
   "metadata": {},
   "outputs": [
    {
     "name": "stdout",
     "output_type": "stream",
     "text": [
      "Array equidistante [ 0.          0.20408163  0.40816327  0.6122449   0.81632653  1.02040816\n",
      "  1.2244898   1.42857143  1.63265306  1.83673469  2.04081633  2.24489796\n",
      "  2.44897959  2.65306122  2.85714286  3.06122449  3.26530612  3.46938776\n",
      "  3.67346939  3.87755102  4.08163265  4.28571429  4.48979592  4.69387755\n",
      "  4.89795918  5.10204082  5.30612245  5.51020408  5.71428571  5.91836735\n",
      "  6.12244898  6.32653061  6.53061224  6.73469388  6.93877551  7.14285714\n",
      "  7.34693878  7.55102041  7.75510204  7.95918367  8.16326531  8.36734694\n",
      "  8.57142857  8.7755102   8.97959184  9.18367347  9.3877551   9.59183673\n",
      "  9.79591837 10.        ]\n",
      "Array casuale [0.59674291 0.20476736 0.47312796 0.98661774 0.41345578 0.92218069\n",
      " 0.13987599 0.33238795 0.84607185 0.74831056 0.33553698 0.16932595\n",
      " 0.90818509 0.04297524 0.76394212 0.67280509 0.87399818 0.31645084\n",
      " 0.41454775 0.36761268 0.50479258 0.2766354  0.29099058 0.57866312\n",
      " 0.17872447 0.67377628 0.25006616 0.0100452  0.23046746 0.07617451\n",
      " 0.50445244 0.97948596 0.0420977  0.31024769 0.96763286 0.80588855\n",
      " 0.42840366 0.22585187 0.75545759 0.05083502 0.36658077 0.08901795\n",
      " 0.51148842 0.07884387 0.83564183 0.3923377  0.97103753 0.63281167\n",
      " 0.96463784 0.65208196]\n",
      "array somma [ 0.59674291  0.408849    0.88129123  1.59886264  1.22978231  1.94258885\n",
      "  1.36436579  1.76095938  2.47872492  2.58504525  2.37635331  2.4142239\n",
      "  3.35716468  2.69603647  3.62108498  3.73402958  4.13930431  3.7858386\n",
      "  4.08801714  4.2451637   4.58642523  4.56234969  4.78078649  5.27254067\n",
      "  5.07668365  5.7758171   5.55618861  5.52024928  5.94475317  5.99454186\n",
      "  6.62690142  7.30601657  6.57270995  7.04494157  7.90640837  7.94874569\n",
      "  7.77534244  7.77687228  8.51055963  8.0100187   8.52984608  8.45636489\n",
      "  9.08291699  8.85435408  9.81523367  9.57601117 10.35879263 10.22464841\n",
      " 10.76055621 10.65208196]\n",
      "somma totale ultimo array 274.1640874047777\n",
      "somma dove array > 5 210.93009704747243\n",
      "somma dove array <= 5  63.2339903573053\n"
     ]
    }
   ],
   "source": [
    "print(\"Array equidistante\",arr)\n",
    "print(\"Array casuale\",arr_casuale)\n",
    "print(\"array somma\", arr_somma)\n",
    "print(\"somma totale ultimo array\",totale)\n",
    "print(\"somma dove array > 5\", totale_magg5)\n",
    "print(\"somma dove array <= 5 \",totale_min5)"
   ]
  }
 ],
 "metadata": {
  "kernelspec": {
   "display_name": "Python 3",
   "language": "python",
   "name": "python3"
  },
  "language_info": {
   "codemirror_mode": {
    "name": "ipython",
    "version": 3
   },
   "file_extension": ".py",
   "mimetype": "text/x-python",
   "name": "python",
   "nbconvert_exporter": "python",
   "pygments_lexer": "ipython3",
   "version": "3.12.1"
  }
 },
 "nbformat": 4,
 "nbformat_minor": 2
}
