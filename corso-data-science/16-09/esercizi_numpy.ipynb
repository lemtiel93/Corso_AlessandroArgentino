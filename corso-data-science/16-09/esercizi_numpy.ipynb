{
 "cells": [
  {
   "cell_type": "code",
   "execution_count": 33,
   "metadata": {},
   "outputs": [
    {
     "name": "stdout",
     "output_type": "stream",
     "text": [
      "[10 11 12 13 14 15 16 17 18 19 20 21 22 23 24 25 26 27 28 29 30 31 32 33\n",
      " 34 35 36 37 38 39 40 41 42 43 44 45 46 47 48 49]\n",
      "int32\n",
      "float64\n",
      "(40,)\n"
     ]
    }
   ],
   "source": [
    "# Esercizio 1\n",
    "import numpy as np\n",
    "# Genera numeri interi compresi tra 10 e 49\n",
    "arr = np.arange(10,50)\n",
    "print(arr)\n",
    "print(arr.dtype)\n",
    "arr2 = arr.astype(float)\n",
    "print(arr2.dtype)\n",
    "print(arr2.shape)"
   ]
  },
  {
   "cell_type": "code",
   "execution_count": 34,
   "metadata": {},
   "outputs": [
    {
     "data": {
      "text/plain": [
       "array([24, 33, 22, 13, 20, 16, 38, 21, 20, 22, 28, 17, 36, 35, 34, 39, 14,\n",
       "       48, 17, 12])"
      ]
     },
     "execution_count": 34,
     "metadata": {},
     "output_type": "execute_result"
    }
   ],
   "source": [
    "# Esercizio 2\n",
    "\n",
    "arr = np.random.randint(10,51, size = 20)\n",
    "arr\n"
   ]
  },
  {
   "cell_type": "code",
   "execution_count": 39,
   "metadata": {},
   "outputs": [
    {
     "name": "stdout",
     "output_type": "stream",
     "text": [
      "Primi 10 numeri  [24 33 22 13 20 16 38 21 20 22]\n",
      "Ultimi 5 numeri [39 14 48 17 12]\n",
      "Numeri con indice compreso tra 5 e 15 (escluso) [16 38 21 20 22 28 17 36 35 34]\n",
      "Lista a step di 3 [22 16 20 17 34 48]\n",
      "Array con 99 negli indici compresi tra 5 e 10 [24 33 22 13 20 99 99 99 99 99 28 17 36 35 34 39 14 48 17 12]\n"
     ]
    }
   ],
   "source": [
    "print(\"Primi 10 numeri \",arr[:10])\n",
    "print(\"Ultimi 5 numeri\",arr[-5:])\n",
    "print(\"Numeri con indice compreso tra 5 e 15 (escluso)\",arr[5:15])\n",
    "print(\"Lista a step di 3\",arr[2::3])\n",
    "arr2 = arr.copy()\n",
    "arr2[5:10] = 99\n",
    "print(\"Array con 99 negli indici compresi tra 5 e 10\",arr2)"
   ]
  },
  {
   "cell_type": "code",
   "execution_count": 40,
   "metadata": {},
   "outputs": [
    {
     "name": "stdout",
     "output_type": "stream",
     "text": [
      "[24 33 22 13 20 16 38 21 20 22 28 17 36 35 34 39 14 48 17 12]\n",
      "[24 33 22 13 20 99 99 99 99 99 28 17 36 35 34 39 14 48 17 12]\n"
     ]
    }
   ],
   "source": [
    "print(arr)\n",
    "print(arr2)"
   ]
  },
  {
   "cell_type": "code",
   "execution_count": 46,
   "metadata": {},
   "outputs": [],
   "source": [
    "# Esercizio 3\n",
    "mat1 = np.linspace(0, 1, 12)\n",
    "mat1 = mat1.reshape(3,4)"
   ]
  },
  {
   "cell_type": "code",
   "execution_count": 48,
   "metadata": {},
   "outputs": [
    {
     "data": {
      "text/plain": [
       "array([[0.81569   , 0.28541837, 0.60937367, 0.61120658],\n",
       "       [0.60621701, 0.51069873, 0.95278394, 1.19548308],\n",
       "       [0.78041076, 1.00528746, 1.7058187 , 1.59518812]])"
      ]
     },
     "execution_count": 48,
     "metadata": {},
     "output_type": "execute_result"
    }
   ],
   "source": [
    "mat2= np.random.rand(3,4)\n",
    "mat_tot = mat1 + mat2 \n",
    "mat_tot"
   ]
  },
  {
   "cell_type": "code",
   "execution_count": 60,
   "metadata": {},
   "outputs": [
    {
     "name": "stdout",
     "output_type": "stream",
     "text": [
      "[[0.56446817 0.73475632 0.9440695  1.12149328]\n",
      " [0.45107367 0.63145311 0.66977409 1.55236509]\n",
      " [0.97434439 1.11281305 1.34840883 1.86449062]]\n"
     ]
    }
   ],
   "source": [
    "print(np.linspace(0, 1, 12).reshape(3,4) + np.random.rand(3,4))"
   ]
  },
  {
   "cell_type": "code",
   "execution_count": 63,
   "metadata": {},
   "outputs": [],
   "source": [
    "# Esercizio 4\n",
    "\n",
    "arr = np.linspace(0,10,50)\n",
    "arr_casuale = np.random.rand(50)\n",
    "arr_somma = arr + arr_casuale\n",
    "totale = sum(arr_somma)\n",
    "totale_magg5 = arr_somma[arr_somma > 5].sum()"
   ]
  },
  {
   "cell_type": "code",
   "execution_count": 64,
   "metadata": {},
   "outputs": [
    {
     "name": "stdout",
     "output_type": "stream",
     "text": [
      "Array equidistante [ 0.          0.20408163  0.40816327  0.6122449   0.81632653  1.02040816\n",
      "  1.2244898   1.42857143  1.63265306  1.83673469  2.04081633  2.24489796\n",
      "  2.44897959  2.65306122  2.85714286  3.06122449  3.26530612  3.46938776\n",
      "  3.67346939  3.87755102  4.08163265  4.28571429  4.48979592  4.69387755\n",
      "  4.89795918  5.10204082  5.30612245  5.51020408  5.71428571  5.91836735\n",
      "  6.12244898  6.32653061  6.53061224  6.73469388  6.93877551  7.14285714\n",
      "  7.34693878  7.55102041  7.75510204  7.95918367  8.16326531  8.36734694\n",
      "  8.57142857  8.7755102   8.97959184  9.18367347  9.3877551   9.59183673\n",
      "  9.79591837 10.        ]\n",
      "Array casuale [0.01503298 0.61087162 0.10717691 0.41808802 0.78238952 0.85334517\n",
      " 0.75017988 0.88973383 0.15021057 0.64864517 0.05721603 0.0460849\n",
      " 0.90484122 0.89168529 0.41594131 0.39768682 0.07480366 0.90205565\n",
      " 0.21918482 0.94033816 0.16449834 0.6325432  0.24242696 0.0936782\n",
      " 0.71563154 0.28573579 0.55967998 0.53679194 0.5285883  0.40261281\n",
      " 0.28225398 0.83579581 0.50740603 0.27341144 0.4326367  0.57898991\n",
      " 0.48155813 0.59704428 0.30008425 0.68474307 0.36794682 0.77461982\n",
      " 0.19765028 0.91900182 0.2932236  0.2605635  0.64804204 0.49767453\n",
      " 0.2647229  0.35506028]\n",
      "array somma [ 0.01503298  0.81495325  0.51534018  1.03033291  1.59871605  1.87375334\n",
      "  1.97466967  2.31830526  1.78286363  2.48537986  2.09803235  2.29098286\n",
      "  3.35382081  3.54474652  3.27308416  3.45891131  3.34010978  4.37144341\n",
      "  3.89265421  4.81788918  4.24613099  4.91825749  4.73222287  4.78755575\n",
      "  5.61359073  5.3877766   5.86580242  6.04699603  6.24287401  6.32098016\n",
      "  6.40470296  7.16232642  7.03801828  7.00810532  7.37141221  7.72184705\n",
      "  7.82849691  8.14806469  8.05518629  8.64392674  8.53121213  9.14196676\n",
      "  8.76907885  9.69451203  9.27281543  9.44423697 10.03579715 10.08951127\n",
      " 10.06064126 10.35506028]\n",
      "somma totale ultimo array 273.7901277806978\n",
      "somma dove array > 5 206.2549389482379\n"
     ]
    }
   ],
   "source": [
    "print(\"Array equidistante\",arr)\n",
    "print(\"Array casuale\",arr_casuale)\n",
    "print(\"array somma\", arr_somma)\n",
    "print(\"somma totale ultimo array\",totale)\n",
    "print(\"somma dove array > 5\", totale_magg5)"
   ]
  }
 ],
 "metadata": {
  "kernelspec": {
   "display_name": "Python 3",
   "language": "python",
   "name": "python3"
  },
  "language_info": {
   "codemirror_mode": {
    "name": "ipython",
    "version": 3
   },
   "file_extension": ".py",
   "mimetype": "text/x-python",
   "name": "python",
   "nbconvert_exporter": "python",
   "pygments_lexer": "ipython3",
   "version": "3.12.1"
  }
 },
 "nbformat": 4,
 "nbformat_minor": 2
}
