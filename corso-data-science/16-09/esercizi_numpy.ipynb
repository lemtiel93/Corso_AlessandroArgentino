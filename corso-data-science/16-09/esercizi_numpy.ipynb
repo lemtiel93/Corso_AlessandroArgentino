{
 "cells": [
  {
   "cell_type": "code",
   "execution_count": 33,
   "metadata": {},
   "outputs": [
    {
     "name": "stdout",
     "output_type": "stream",
     "text": [
      "[10 11 12 13 14 15 16 17 18 19 20 21 22 23 24 25 26 27 28 29 30 31 32 33\n",
      " 34 35 36 37 38 39 40 41 42 43 44 45 46 47 48 49]\n",
      "int32\n",
      "float64\n",
      "(40,)\n"
     ]
    }
   ],
   "source": [
    "# Esercizio 1\n",
    "import numpy as np\n",
    "# Genera numeri interi compresi tra 10 e 49\n",
    "arr = np.arange(10,50)\n",
    "print(arr)\n",
    "print(arr.dtype)\n",
    "arr2 = arr.astype(float)\n",
    "print(arr2.dtype)\n",
    "print(arr2.shape)"
   ]
  },
  {
   "cell_type": "code",
   "execution_count": 34,
   "metadata": {},
   "outputs": [
    {
     "data": {
      "text/plain": [
       "array([24, 33, 22, 13, 20, 16, 38, 21, 20, 22, 28, 17, 36, 35, 34, 39, 14,\n",
       "       48, 17, 12])"
      ]
     },
     "execution_count": 34,
     "metadata": {},
     "output_type": "execute_result"
    }
   ],
   "source": [
    "# Esercizio 2\n",
    "\n",
    "arr = np.random.randint(10,51, size = 20)\n",
    "arr\n"
   ]
  },
  {
   "cell_type": "code",
   "execution_count": 39,
   "metadata": {},
   "outputs": [
    {
     "name": "stdout",
     "output_type": "stream",
     "text": [
      "Primi 10 numeri  [24 33 22 13 20 16 38 21 20 22]\n",
      "Ultimi 5 numeri [39 14 48 17 12]\n",
      "Numeri con indice compreso tra 5 e 15 (escluso) [16 38 21 20 22 28 17 36 35 34]\n",
      "Lista a step di 3 [22 16 20 17 34 48]\n",
      "Array con 99 negli indici compresi tra 5 e 10 [24 33 22 13 20 99 99 99 99 99 28 17 36 35 34 39 14 48 17 12]\n"
     ]
    }
   ],
   "source": [
    "print(\"Primi 10 numeri \",arr[:10])\n",
    "print(\"Ultimi 5 numeri\",arr[-5:])\n",
    "print(\"Numeri con indice compreso tra 5 e 15 (escluso)\",arr[5:15])\n",
    "print(\"Lista a step di 3\",arr[2::3])\n",
    "arr2 = arr.copy()\n",
    "arr2[5:10] = 99\n",
    "print(\"Array con 99 negli indici compresi tra 5 e 10\",arr2)"
   ]
  },
  {
   "cell_type": "code",
   "execution_count": 40,
   "metadata": {},
   "outputs": [
    {
     "name": "stdout",
     "output_type": "stream",
     "text": [
      "[24 33 22 13 20 16 38 21 20 22 28 17 36 35 34 39 14 48 17 12]\n",
      "[24 33 22 13 20 99 99 99 99 99 28 17 36 35 34 39 14 48 17 12]\n"
     ]
    }
   ],
   "source": [
    "print(arr)\n",
    "print(arr2)"
   ]
  },
  {
   "cell_type": "code",
   "execution_count": 46,
   "metadata": {},
   "outputs": [],
   "source": [
    "# Esercizio 3\n",
    "\n",
    "mat1 = np.linspace(0, 1, 12)\n",
    "mat1 = mat1.reshape(3,4)"
   ]
  },
  {
   "cell_type": "code",
   "execution_count": 48,
   "metadata": {},
   "outputs": [
    {
     "data": {
      "text/plain": [
       "array([[0.81569   , 0.28541837, 0.60937367, 0.61120658],\n",
       "       [0.60621701, 0.51069873, 0.95278394, 1.19548308],\n",
       "       [0.78041076, 1.00528746, 1.7058187 , 1.59518812]])"
      ]
     },
     "execution_count": 48,
     "metadata": {},
     "output_type": "execute_result"
    }
   ],
   "source": [
    "mat2= np.random.rand(3,4)\n",
    "mat_tot = mat1 + mat2 \n",
    "mat_tot"
   ]
  }
 ],
 "metadata": {
  "kernelspec": {
   "display_name": "Python 3",
   "language": "python",
   "name": "python3"
  },
  "language_info": {
   "codemirror_mode": {
    "name": "ipython",
    "version": 3
   },
   "file_extension": ".py",
   "mimetype": "text/x-python",
   "name": "python",
   "nbconvert_exporter": "python",
   "pygments_lexer": "ipython3",
   "version": "3.12.1"
  }
 },
 "nbformat": 4,
 "nbformat_minor": 2
}
