{
 "cells": [
  {
   "cell_type": "code",
   "execution_count": 2,
   "metadata": {},
   "outputs": [
    {
     "name": "stdout",
     "output_type": "stream",
     "text": [
      "Downloading https://www.cs.toronto.edu/~kriz/cifar-10-python.tar.gz to ./data\\cifar-10-python.tar.gz\n"
     ]
    },
    {
     "name": "stderr",
     "output_type": "stream",
     "text": [
      "100%|██████████| 170498071/170498071 [00:21<00:00, 7787162.55it/s] \n"
     ]
    },
    {
     "name": "stdout",
     "output_type": "stream",
     "text": [
      "Extracting ./data\\cifar-10-python.tar.gz to ./data\n",
      "Files already downloaded and verified\n"
     ]
    }
   ],
   "source": [
    "import torchvision\n",
    "from torchvision import transforms\n",
    "\n",
    "# Trasformazioni per le immagini (normalizzazione, ecc.)\n",
    "transform = transforms.Compose([transforms.ToTensor()])\n",
    "\n",
    "# Dataset di training\n",
    "train_set = torchvision.datasets.CIFAR10(root='./data', train=True, download=True, transform=transform)\n",
    "\n",
    "# Dataset di test\n",
    "test_set = torchvision.datasets.CIFAR10(root='./data', train=False, download=True, transform=transform)"
   ]
  },
  {
   "cell_type": "code",
   "execution_count": 9,
   "metadata": {},
   "outputs": [
    {
     "name": "stdout",
     "output_type": "stream",
     "text": [
      "plane: 0.00%\n",
      "car: 0.00%\n",
      "bird: 0.00%\n",
      "cat: 0.00%\n",
      "deer: 0.00%\n",
      "dog: 0.00%\n",
      "frog: 0.00%\n",
      "horse: 0.00%\n",
      "ship: 14.88%\n",
      "truck: 85.12%\n",
      "Predicted Class: truck\n"
     ]
    },
    {
     "name": "stderr",
     "output_type": "stream",
     "text": [
      "C:\\Users\\aless\\AppData\\Local\\Temp\\ipykernel_26516\\1039802102.py:30: FutureWarning: You are using `torch.load` with `weights_only=False` (the current default value), which uses the default pickle module implicitly. It is possible to construct malicious pickle data which will execute arbitrary code during unpickling (See https://github.com/pytorch/pytorch/blob/main/SECURITY.md#untrusted-models for more details). In a future release, the default value for `weights_only` will be flipped to `True`. This limits the functions that could be executed during unpickling. Arbitrary objects will no longer be allowed to be loaded via this mode unless they are explicitly allowlisted by the user via `torch.serialization.add_safe_globals`. We recommend you start setting `weights_only=True` for any use case where you don't have full control of the loaded file. Please open an issue on GitHub for any issues related to this experimental feature.\n",
      "  model.load_state_dict(torch.load('cnn_cifar10.pth'))\n"
     ]
    },
    {
     "data": {
      "text/plain": [
       "[5.174997319556951e-09,\n",
       " 6.89886758831193e-11,\n",
       " 1.815909089764034e-09,\n",
       " 4.053510305190855e-10,\n",
       " 2.1848026859894176e-11,\n",
       " 6.60582422096212e-11,\n",
       " 1.7080781233858033e-11,\n",
       " 1.2656365733221264e-08,\n",
       " 0.14879924058914185,\n",
       " 0.8512007594108582]"
      ]
     },
     "execution_count": 9,
     "metadata": {},
     "output_type": "execute_result"
    }
   ],
   "source": [
    "import torch\n",
    "import torch.nn as nn\n",
    "import torchvision.transforms as transforms\n",
    "from PIL import Image\n",
    "\n",
    "# Define the CNN architecture\n",
    "class CNN(nn.Module):\n",
    "    def __init__(self):\n",
    "        super(CNN, self).__init__()\n",
    "        self.conv1 = nn.Conv2d(3, 32, 3, padding=1)\n",
    "        self.conv2 = nn.Conv2d(32, 64, 3, padding=1)\n",
    "        self.pool = nn.MaxPool2d(2, 2)\n",
    "        self.fc1 = nn.Linear(64 * 8 * 8, 512)\n",
    "        self.fc2 = nn.Linear(512, 10)\n",
    "\n",
    "    def forward(self, x):\n",
    "        x = self.pool(torch.relu(self.conv1(x)))\n",
    "        x = self.pool(torch.relu(self.conv2(x)))\n",
    "        x = x.view(-1, 64 * 8 * 8)\n",
    "        x = torch.relu(self.fc1(x))\n",
    "        x = self.fc2(x)\n",
    "        return x\n",
    "\n",
    "# CIFAR-10 class names\n",
    "classes = ('plane', 'car', 'bird', 'cat', 'deer', \n",
    "           'dog', 'frog', 'horse', 'ship', 'truck')\n",
    "\n",
    "# Load the saved model\n",
    "model = CNN()\n",
    "model.load_state_dict(torch.load('cnn_cifar10.pth'))\n",
    "model.eval()\n",
    "\n",
    "# Preprocess the custom image\n",
    "def preprocess_image(image_path):\n",
    "    transform = transforms.Compose([\n",
    "        transforms.Resize((32, 32)),\n",
    "        transforms.ToTensor(),\n",
    "        transforms.Normalize((0.5, 0.5, 0.5), (0.5, 0.5, 0.5))\n",
    "    ])\n",
    "    \n",
    "    img = Image.open(image_path)\n",
    "    img = transform(img)\n",
    "    img = img.unsqueeze(0)  # Add batch dimension\n",
    "    return img\n",
    "\n",
    "# Make predictions with class probabilities (confidence scores)\n",
    "def predict_confidence(model, image_path):\n",
    "    img = preprocess_image(image_path)\n",
    "    \n",
    "    # Disable gradients for inference\n",
    "    with torch.no_grad():\n",
    "        outputs = model(img)\n",
    "    \n",
    "    # Apply softmax to get probabilities\n",
    "    probabilities = torch.softmax(outputs, dim=1)\n",
    "    \n",
    "    # Convert the tensor to a Python list and get probabilities for each class\n",
    "    probabilities_list = probabilities.squeeze().tolist()\n",
    "    \n",
    "    # Print the predicted probabilities for each class\n",
    "    for i, class_name in enumerate(classes):\n",
    "        print(f'{class_name}: {probabilities_list[i] * 100:.2f}%')\n",
    "\n",
    "    # Get the predicted class (with the highest probability)\n",
    "    predicted_class_idx = torch.argmax(probabilities).item()\n",
    "    predicted_class = classes[predicted_class_idx]\n",
    "    print(f'Predicted Class: {predicted_class}')\n",
    "\n",
    "    return probabilities_list\n",
    "\n",
    "# Example usage: Predict with confidence scores for a custom image\n",
    "image_path = 'camion.jpg'\n",
    "predict_confidence(model, image_path)\n"
   ]
  }
 ],
 "metadata": {
  "kernelspec": {
   "display_name": "Python 3",
   "language": "python",
   "name": "python3"
  },
  "language_info": {
   "codemirror_mode": {
    "name": "ipython",
    "version": 3
   },
   "file_extension": ".py",
   "mimetype": "text/x-python",
   "name": "python",
   "nbconvert_exporter": "python",
   "pygments_lexer": "ipython3",
   "version": "3.12.1"
  }
 },
 "nbformat": 4,
 "nbformat_minor": 2
}
