{
 "cells": [
  {
   "cell_type": "code",
   "execution_count": 89,
   "metadata": {},
   "outputs": [],
   "source": [
    "import pandas as pd\n",
    "from xgboost import XGBRegressor\n",
    "from sklearn.metrics import mean_squared_error\n",
    "\n",
    "\n",
    "train = pd.read_csv('train.csv')\n",
    "test = pd.read_csv('test.csv')"
   ]
  },
  {
   "cell_type": "code",
   "execution_count": 90,
   "metadata": {},
   "outputs": [],
   "source": [
    "# Tolgo colonna target dal set di train\n",
    "y_train_no_split = train['SalePrice']  \n",
    "X_train_no_split = train.drop(columns=['SalePrice','Id'])\n",
    "X_test = test.drop(columns=['Id'])"
   ]
  },
  {
   "cell_type": "code",
   "execution_count": 91,
   "metadata": {},
   "outputs": [
    {
     "name": "stdout",
     "output_type": "stream",
     "text": [
      "                   Colonna  Valori Nulli  Percentuale Nulli (%)\n",
      "PoolQC              PoolQC          1453                  99.52\n",
      "MiscFeature    MiscFeature          1406                  96.30\n",
      "Alley                Alley          1369                  93.77\n",
      "Fence                Fence          1179                  80.75\n",
      "MasVnrType      MasVnrType           872                  59.73\n",
      "FireplaceQu    FireplaceQu           690                  47.26\n",
      "LotFrontage    LotFrontage           259                  17.74\n",
      "GarageType      GarageType            81                   5.55\n",
      "GarageYrBlt    GarageYrBlt            81                   5.55\n",
      "GarageFinish  GarageFinish            81                   5.55\n",
      "GarageQual      GarageQual            81                   5.55\n",
      "GarageCond      GarageCond            81                   5.55\n",
      "BsmtFinType2  BsmtFinType2            38                   2.60\n",
      "BsmtExposure  BsmtExposure            38                   2.60\n",
      "BsmtFinType1  BsmtFinType1            37                   2.53\n",
      "BsmtCond          BsmtCond            37                   2.53\n",
      "BsmtQual          BsmtQual            37                   2.53\n",
      "MasVnrArea      MasVnrArea             8                   0.55\n",
      "Electrical      Electrical             1                   0.07\n"
     ]
    }
   ],
   "source": [
    "\n",
    "\n",
    "# Carico il dataset\n",
    "train = pd.read_csv('train.csv')\n",
    "\n",
    "# Calcolo il numero e la percentuale di valori nulli per ogni colonna\n",
    "null_counts = train.isnull().sum()  # Numero di valori nulli\n",
    "null_percentage = (train.isnull().mean() * 100).round(2)  # Percentuale di valori nulli\n",
    "\n",
    "# Creo un DataFrame per visualizzare i risultati\n",
    "null_data = pd.DataFrame({'Colonna': train.columns, \n",
    "                          'Valori Nulli': null_counts, \n",
    "                          'Percentuale Nulli (%)': null_percentage})\n",
    "\n",
    "# Filtra le colonne che hanno valori nulli (solo colonne con almeno un valore nullo)\n",
    "null_data_filtered = null_data[null_data['Valori Nulli'] > 0]\n",
    "\n",
    "# Ordina le colonne in base alla percentuale di valori nulli in ordine decrescente\n",
    "null_data_filtered = null_data_filtered.sort_values(by='Percentuale Nulli (%)', ascending=False)\n",
    "\n",
    "# Visualizza le colonne con valori nulli\n",
    "print(null_data_filtered)\n"
   ]
  },
  {
   "cell_type": "code",
   "execution_count": 50,
   "metadata": {},
   "outputs": [
    {
     "data": {
      "text/plain": [
       "array([nan, 'Shed', 'Gar2', 'Othr', 'TenC'], dtype=object)"
      ]
     },
     "execution_count": 50,
     "metadata": {},
     "output_type": "execute_result"
    }
   ],
   "source": [
    "train['PoolQC'].unique()\n",
    "train['MiscFeature'].unique()"
   ]
  },
  {
   "cell_type": "code",
   "execution_count": 92,
   "metadata": {},
   "outputs": [
    {
     "name": "stdout",
     "output_type": "stream",
     "text": [
      "(1460, 287) (1459, 287)\n"
     ]
    }
   ],
   "source": [
    "# Categorizzo in automatico tutto il possibile. Allineo già le colonne con il dataset \n",
    "X_train_dummies = pd.get_dummies(X_train_no_split)\n",
    "X_test_dummies = pd.get_dummies(test)\n",
    "X_train_dummies, X_test_dummies = X_train_dummies.align(X_test_dummies, join='left', axis=1)\n",
    "print(X_train_dummies.shape, X_test_dummies.shape)"
   ]
  },
  {
   "cell_type": "code",
   "execution_count": 93,
   "metadata": {},
   "outputs": [],
   "source": [
    "from sklearn.model_selection import train_test_split, GridSearchCV\n",
    "\n",
    "X_train, X_val, y_train, y_val = train_test_split(X_train_dummies, y_train_no_split, test_size=0.2, random_state=42)"
   ]
  },
  {
   "cell_type": "code",
   "execution_count": 94,
   "metadata": {},
   "outputs": [
    {
     "name": "stdout",
     "output_type": "stream",
     "text": [
      "Mean Squared Error sul validation set: 601801155.7710724\n",
      "Root Mean Squared Error sul validation set: 24531.63581522994\n",
      "Prezzo medio delle case nel dataset: 181441.5419520548\n",
      "Differenza in % 0.1352040748293041\n"
     ]
    }
   ],
   "source": [
    "from xgboost import XGBRegressor\n",
    "model_xgb = XGBRegressor(n_estimators=500, learning_rate=0.05, max_depth=5)\n",
    "model_xgb.fit(X_train, y_train)\n",
    "\n",
    "y_pred_val = model_xgb.predict(X_val)\n",
    "\n",
    "# Valutazione del modello sul validation set (MSE - Mean Squared Error)\n",
    "mse = mean_squared_error(y_val, y_pred_val)\n",
    "print(f'Mean Squared Error sul validation set: {mse}')\n",
    "rmse = mse ** 0.5\n",
    "print(f'Root Mean Squared Error sul validation set: {rmse}')\n",
    "avg_price = y_train.mean()\n",
    "print(f'Prezzo medio delle case nel dataset: {avg_price}')\n",
    "print(f'Differenza in % {rmse/avg_price}')"
   ]
  },
  {
   "cell_type": "code",
   "execution_count": 114,
   "metadata": {},
   "outputs": [],
   "source": [
    "param_grid = {\n",
    "    'n_estimators': [ 1000, 1500],\n",
    "    'learning_rate': [0.01, 0.005],  \n",
    "    'max_depth': [ 2, 3, 5, 7, 10],  \n",
    "    'subsample': [ 0.8],  # Percentuale di campioni usati per ciascun albero\n",
    "    'colsample_bytree': [ 0.8],  # Percentuale di feature usate per ciascun albero\n",
    "    'gamma': [0],  # Penalizzazione per split, aiuta a ridurre l'overfitting\n",
    "}\n",
    "grid_search = GridSearchCV(model_xgb, param_grid, cv=3 , scoring='neg_mean_squared_error', verbose=2, n_jobs=-1)"
   ]
  },
  {
   "cell_type": "code",
   "execution_count": 115,
   "metadata": {},
   "outputs": [
    {
     "name": "stdout",
     "output_type": "stream",
     "text": [
      "Fitting 3 folds for each of 20 candidates, totalling 60 fits\n"
     ]
    }
   ],
   "source": [
    "grid_search.fit(X_train, y_train)\n",
    "\n",
    "best_model = grid_search.best_estimator_"
   ]
  },
  {
   "cell_type": "code",
   "execution_count": 116,
   "metadata": {},
   "outputs": [
    {
     "data": {
      "text/plain": [
       "{'colsample_bytree': 0.8,\n",
       " 'gamma': 0,\n",
       " 'learning_rate': 0.01,\n",
       " 'max_depth': 3,\n",
       " 'n_estimators': 1500,\n",
       " 'subsample': 0.8}"
      ]
     },
     "execution_count": 116,
     "metadata": {},
     "output_type": "execute_result"
    }
   ],
   "source": [
    "grid_search.best_params_"
   ]
  },
  {
   "cell_type": "code",
   "execution_count": 117,
   "metadata": {},
   "outputs": [
    {
     "name": "stdout",
     "output_type": "stream",
     "text": [
      "Mean Squared Error sul validation set: 629526047.7478054\n",
      "Root Mean Squared Error sul validation set: 25090.35766480433\n",
      "Prezzo medio delle case nel dataset: 181441.5419520548\n",
      "Differenza in % 0.13828342393295112\n"
     ]
    }
   ],
   "source": [
    "best_model.fit(X_train, y_train)\n",
    "\n",
    "y_pred_val = best_model.predict(X_val)\n",
    "\n",
    "# Valutazione del modello sul validation set (MSE - Mean Squared Error)\n",
    "mse = mean_squared_error(y_val, y_pred_val)\n",
    "print(f'Mean Squared Error sul validation set: {mse}')\n",
    "rmse = mse ** 0.5\n",
    "print(f'Root Mean Squared Error sul validation set: {rmse}')\n",
    "avg_price = y_train.mean()\n",
    "print(f'Prezzo medio delle case nel dataset: {avg_price}')\n",
    "print(f'Differenza in % {rmse/avg_price}')"
   ]
  },
  {
   "cell_type": "code",
   "execution_count": 118,
   "metadata": {},
   "outputs": [
    {
     "data": {
      "text/plain": [
       "0.0885132853068843"
      ]
     },
     "execution_count": 118,
     "metadata": {},
     "output_type": "execute_result"
    }
   ],
   "source": [
    "import numpy as np \n",
    "from sklearn.metrics import mean_absolute_error\n",
    "absolute_errors = np.abs(y_val - y_pred_val)\n",
    "\n",
    "# Calcolo della mediana dell'errore assoluto\n",
    "median_error = np.median(absolute_errors)\n",
    "np.mean(absolute_errors)\n",
    "mae = mean_absolute_error(y_val, y_pred_val)\n",
    "mae / y_val.mean()"
   ]
  },
  {
   "cell_type": "code",
   "execution_count": 119,
   "metadata": {},
   "outputs": [
    {
     "name": "stdout",
     "output_type": "stream",
     "text": [
      "Root Mean Squared Error (log) sul validation set: 0.1295785790097223\n"
     ]
    }
   ],
   "source": [
    "# Root Mean Squared Error in logartimo\n",
    "from sklearn.metrics import mean_squared_error\n",
    "import numpy as np\n",
    "\n",
    "\n",
    "best_model.fit(X_train, y_train)\n",
    "\n",
    "y_pred_val = best_model.predict(X_val)\n",
    "\n",
    "\n",
    "y_val_log = np.log(y_val)\n",
    "y_pred_val_log = np.log(y_pred_val)\n",
    "\n",
    "rmse_log = mean_squared_error(y_val_log, y_pred_val_log) ** 0.5\n",
    "\n",
    "# Visualizzazione del risultato\n",
    "print(f'Root Mean Squared Error (log) sul validation set: {rmse_log}')"
   ]
  },
  {
   "cell_type": "code",
   "execution_count": 122,
   "metadata": {},
   "outputs": [
    {
     "data": {
      "text/plain": [
       "array([130667.  , 154914.75, 179249.68, ..., 152734.5 , 115902.75,\n",
       "       219349.83])"
      ]
     },
     "execution_count": 122,
     "metadata": {},
     "output_type": "execute_result"
    }
   ],
   "source": [
    "y_test = model.predict(X_test_dummies)\n",
    "y_test"
   ]
  },
  {
   "cell_type": "code",
   "execution_count": 123,
   "metadata": {},
   "outputs": [
    {
     "name": "stdout",
     "output_type": "stream",
     "text": [
      "        Id  SalePrice\n",
      "0     1461  130667.00\n",
      "1     1462  154914.75\n",
      "2     1463  179249.68\n",
      "3     1464  188801.35\n",
      "4     1465  203991.00\n",
      "...    ...        ...\n",
      "1454  2915   89238.00\n",
      "1455  2916   91307.50\n",
      "1456  2917  152734.50\n",
      "1457  2918  115902.75\n",
      "1458  2919  219349.83\n",
      "\n",
      "[1459 rows x 2 columns]\n"
     ]
    }
   ],
   "source": [
    "sub = pd.read_csv('sample_submission.csv')\n",
    "sub['SalePrice'] = y_test\n",
    "print(sub)\n",
    "sub.to_csv('sub_da_mandare_3.csv', index = None)"
   ]
  }
 ],
 "metadata": {
  "kernelspec": {
   "display_name": "Python 3",
   "language": "python",
   "name": "python3"
  },
  "language_info": {
   "codemirror_mode": {
    "name": "ipython",
    "version": 3
   },
   "file_extension": ".py",
   "mimetype": "text/x-python",
   "name": "python",
   "nbconvert_exporter": "python",
   "pygments_lexer": "ipython3",
   "version": "3.12.1"
  }
 },
 "nbformat": 4,
 "nbformat_minor": 2
}
